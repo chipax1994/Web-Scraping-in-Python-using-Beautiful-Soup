{
 "cells": [
  {
   "cell_type": "code",
   "execution_count": 1,
   "metadata": {
    "colab": {
     "base_uri": "https://localhost:8080/"
    },
    "id": "Va_VCdnEmQDY",
    "outputId": "3e4cfe80-2d15-4da1-c639-483ca8ae7e00"
   },
   "outputs": [
    {
     "name": "stdout",
     "output_type": "stream",
     "text": [
      "Collecting requests\n",
      "\u001b[33m  Retrying (Retry(total=4, connect=None, read=None, redirect=None, status=None)) after connection broken by 'NewConnectionError('<urllib3.connection.VerifiedHTTPSConnection object at 0x7efce49b99e8>: Failed to establish a new connection: [Errno 101] Network is unreachable',)': /simple/requests/\u001b[0m\n",
      "  Downloading https://files.pythonhosted.org/packages/2d/61/08076519c80041bc0ffa1a8af0cbd3bf3e2b62af10435d269a9d0f40564d/requests-2.27.1-py2.py3-none-any.whl (63kB)\n",
      "\u001b[K    100% |████████████████████████████████| 71kB 208kB/s ta 0:00:01\n",
      "\u001b[?25hCollecting idna<4,>=2.5; python_version >= \"3\" (from requests)\n",
      "  Downloading https://files.pythonhosted.org/packages/fc/34/3030de6f1370931b9dbb4dad48f6ab1015ab1d32447850b9fc94e60097be/idna-3.4-py3-none-any.whl (61kB)\n",
      "\u001b[K    100% |████████████████████████████████| 71kB 228kB/s ta 0:00:01\n",
      "\u001b[?25hCollecting urllib3<1.27,>=1.21.1 (from requests)\n",
      "  Downloading https://files.pythonhosted.org/packages/65/0c/cc6644eaa594585e5875f46f3c83ee8762b647b51fc5b0fb253a242df2dc/urllib3-1.26.13-py2.py3-none-any.whl (140kB)\n",
      "\u001b[K    100% |████████████████████████████████| 143kB 323kB/s ta 0:00:01\n",
      "\u001b[?25hCollecting charset-normalizer~=2.0.0; python_version >= \"3\" (from requests)\n",
      "  Downloading https://files.pythonhosted.org/packages/06/b3/24afc8868eba069a7f03650ac750a778862dc34941a4bebeb58706715726/charset_normalizer-2.0.12-py3-none-any.whl\n",
      "Collecting certifi>=2017.4.17 (from requests)\n",
      "  Downloading https://files.pythonhosted.org/packages/71/4c/3db2b8021bd6f2f0ceb0e088d6b2d49147671f25832fb17970e9b583d742/certifi-2022.12.7-py3-none-any.whl (155kB)\n",
      "\u001b[K    100% |████████████████████████████████| 163kB 365kB/s ta 0:00:01\n",
      "\u001b[?25hInstalling collected packages: idna, urllib3, charset-normalizer, certifi, requests\n",
      "Successfully installed certifi-2022.12.7 charset-normalizer-2.0.12 idna-3.4 requests-2.27.1 urllib3-1.26.13\n"
     ]
    }
   ],
   "source": [
    "!pip3 install requests"
   ]
  },
  {
   "cell_type": "code",
   "execution_count": 2,
   "metadata": {
    "colab": {
     "base_uri": "https://localhost:8080/"
    },
    "id": "4Tw5-b7GnCAs",
    "outputId": "421afce0-d423-4685-f7c7-c94491422442"
   },
   "outputs": [
    {
     "name": "stdout",
     "output_type": "stream",
     "text": [
      "Collecting bs4\n",
      "  Downloading https://files.pythonhosted.org/packages/10/ed/7e8b97591f6f456174139ec089c769f89a94a1a4025fe967691de971f314/bs4-0.0.1.tar.gz\n",
      "Collecting beautifulsoup4 (from bs4)\n",
      "  Downloading https://files.pythonhosted.org/packages/9c/d8/909c4089dbe4ade9f9705f143c9f13f065049a9d5e7d34c828aefdd0a97c/beautifulsoup4-4.11.1-py3-none-any.whl (128kB)\n",
      "\u001b[K    100% |████████████████████████████████| 133kB 320kB/s ta 0:00:01\n",
      "\u001b[?25hCollecting soupsieve>1.2 (from beautifulsoup4->bs4)\n",
      "  Downloading https://files.pythonhosted.org/packages/16/e3/4ad79882b92617e3a4a0df1960d6bce08edfb637737ac5c3f3ba29022e25/soupsieve-2.3.2.post1-py3-none-any.whl\n",
      "Building wheels for collected packages: bs4\n",
      "  Running setup.py bdist_wheel for bs4 ... \u001b[?25ldone\n",
      "\u001b[?25h  Stored in directory: /home/peterr/.cache/pip/wheels/a0/b0/b2/4f80b9456b87abedbc0bf2d52235414c3467d8889be38dd472\n",
      "Successfully built bs4\n",
      "Installing collected packages: soupsieve, beautifulsoup4, bs4\n",
      "Successfully installed beautifulsoup4-4.11.1 bs4-0.0.1 soupsieve-2.3.2.post1\n"
     ]
    }
   ],
   "source": [
    "!pip3 install bs4"
   ]
  },
  {
   "cell_type": "code",
   "execution_count": null,
   "metadata": {},
   "outputs": [],
   "source": [
    "!pip3 install openpyxl"
   ]
  },
  {
   "cell_type": "code",
   "execution_count": 4,
   "metadata": {
    "id": "jQiel5QNnLFI"
   },
   "outputs": [
    {
     "ename": "ModuleNotFoundError",
     "evalue": "No module named 'bs4'",
     "output_type": "error",
     "traceback": [
      "\u001b[0;31m---------------------------------------------------------------------------\u001b[0m",
      "\u001b[0;31mModuleNotFoundError\u001b[0m                       Traceback (most recent call last)",
      "\u001b[0;32m<ipython-input-4-0e95016444b3>\u001b[0m in \u001b[0;36m<module>\u001b[0;34m()\u001b[0m\n\u001b[0;32m----> 1\u001b[0;31m \u001b[0;32mfrom\u001b[0m \u001b[0mbs4\u001b[0m \u001b[0;32mimport\u001b[0m \u001b[0mBeautifulSoup\u001b[0m\u001b[0;34m\u001b[0m\u001b[0;34m\u001b[0m\u001b[0m\n\u001b[0m\u001b[1;32m      2\u001b[0m \u001b[0;32mimport\u001b[0m \u001b[0mrequests\u001b[0m\u001b[0;34m,\u001b[0m \u001b[0mopenpyxl\u001b[0m\u001b[0;34m\u001b[0m\u001b[0;34m\u001b[0m\u001b[0m\n",
      "\u001b[0;31mModuleNotFoundError\u001b[0m: No module named 'bs4'"
     ]
    }
   ],
   "source": [
    "from bs4 import BeautifulSoup\n",
    "import requests, openpyxl"
   ]
  },
  {
   "cell_type": "code",
   "execution_count": null,
   "metadata": {
    "colab": {
     "base_uri": "https://localhost:8080/"
    },
    "id": "-JMpRPCcUN_j",
    "outputId": "b90bc428-a67f-4a31-c54f-bf768ed502dd"
   },
   "outputs": [],
   "source": [
    "excel = openpyxl.Workbook()\n",
    "sheet = excel.active\n",
    "sheet.title = 'Top Rated Movies'\n",
    "print(excel.sheetnames)\n"
   ]
  },
  {
   "cell_type": "code",
   "execution_count": null,
   "metadata": {
    "id": "v-C5BFTyWF_s"
   },
   "outputs": [],
   "source": [
    "sheet.append(['Movie Rank','Movie Name','Year of Release','IMDB Rating'])"
   ]
  },
  {
   "cell_type": "code",
   "execution_count": 13,
   "metadata": {
    "colab": {
     "base_uri": "https://localhost:8080/"
    },
    "id": "i9LvrK7MnLJ6",
    "outputId": "e73496a0-eed2-4c25-86fb-57f68ae8f551"
   },
   "outputs": [
    {
     "name": "stdout",
     "output_type": "stream",
     "text": [
      "The Shawshank Redemption 1 1994 9.2\n",
      "The Godfather 2 1972 9.2\n",
      "The Dark Knight 3 2008 9.0\n",
      "The Godfather Part II 4 1974 9.0\n",
      "12 Angry Men 5 1957 9.0\n",
      "Schindler's List 6 1993 8.9\n",
      "The Lord of the Rings: The Return of the King 7 2003 8.9\n",
      "Pulp Fiction 8 1994 8.8\n",
      "The Lord of the Rings: The Fellowship of the Ring 9 2001 8.8\n",
      "The Good, the Bad and the Ugly 10 1966 8.8\n",
      "Forrest Gump 11 1994 8.8\n",
      "Fight Club 12 1999 8.7\n",
      "The Lord of the Rings: The Two Towers 13 2002 8.7\n",
      "Inception 14 2010 8.7\n",
      "Star Wars: Episode V - The Empire Strikes Back 15 1980 8.7\n",
      "The Matrix 16 1999 8.7\n",
      "Goodfellas 17 1990 8.7\n",
      "One Flew Over the Cuckoo's Nest 18 1975 8.6\n",
      "Se7en 19 1995 8.6\n",
      "Seven Samurai 20 1954 8.6\n",
      "It's a Wonderful Life 21 1946 8.6\n",
      "The Silence of the Lambs 22 1991 8.6\n",
      "City of God 23 2002 8.6\n",
      "Saving Private Ryan 24 1998 8.6\n",
      "Life Is Beautiful 25 1997 8.6\n",
      "Interstellar 26 2014 8.6\n",
      "The Green Mile 27 1999 8.6\n",
      "Star Wars 28 1977 8.6\n",
      "Terminator 2: Judgment Day 29 1991 8.5\n",
      "Back to the Future 30 1985 8.5\n",
      "Spirited Away 31 2001 8.5\n",
      "Psycho 32 1960 8.5\n",
      "The Pianist 33 2002 8.5\n",
      "Parasite 34 2019 8.5\n",
      "Léon: The Professional 35 1994 8.5\n",
      "The Lion King 36 1994 8.5\n",
      "Gladiator 37 2000 8.5\n",
      "American History X 38 1998 8.5\n",
      "The Departed 39 2006 8.5\n",
      "The Usual Suspects 40 1995 8.5\n",
      "The Prestige 41 2006 8.5\n",
      "Whiplash 42 2014 8.5\n",
      "Casablanca 43 1942 8.5\n",
      "Harakiri 44 1962 8.5\n",
      "Grave of the Fireflies 45 1988 8.5\n",
      "The Intouchables 46 2011 8.5\n",
      "Modern Times 47 1936 8.4\n",
      "Once Upon a Time in the West 48 1968 8.4\n",
      "Rear Window 49 1954 8.4\n",
      "Cinema Paradiso 50 1988 8.4\n",
      "Alien 51 1979 8.4\n",
      "City Lights 52 1931 8.4\n",
      "Apocalypse Now 53 1979 8.4\n",
      "Memento 54 2000 8.4\n",
      "Raiders of the Lost Ark 55 1981 8.4\n",
      "Django Unchained 56 2012 8.4\n",
      "WALL·E 57 2008 8.4\n",
      "The Lives of Others 58 2006 8.4\n",
      "Sunset Blvd. 59 1950 8.4\n",
      "Paths of Glory 60 1957 8.4\n",
      "The Great Dictator 61 1940 8.4\n",
      "The Shining 62 1980 8.4\n",
      "Avengers: Infinity War 63 2018 8.4\n",
      "Witness for the Prosecution 64 1957 8.4\n",
      "Aliens 65 1986 8.3\n",
      "Spider-Man: Into the Spider-Verse 66 2018 8.3\n",
      "American Beauty 67 1999 8.3\n",
      "Dr. Strangelove or: How I Learned to Stop Worrying and Love the Bomb 68 1964 8.3\n",
      "The Dark Knight Rises 69 2012 8.3\n",
      "Oldboy 70 2003 8.3\n",
      "Amadeus 71 1984 8.3\n",
      "Joker 72 2019 8.3\n",
      "Inglourious Basterds 73 2009 8.3\n",
      "Coco 74 2017 8.3\n",
      "Toy Story 75 1995 8.3\n",
      "Braveheart 76 1995 8.3\n",
      "The Boat 77 1981 8.3\n",
      "Avengers: Endgame 78 2019 8.3\n",
      "Princess Mononoke 79 1997 8.3\n",
      "Once Upon a Time in America 80 1984 8.3\n",
      "Good Will Hunting 81 1997 8.3\n",
      "Top Gun: Maverick 82 2022 8.3\n",
      "Your Name. 83 2016 8.3\n",
      "Requiem for a Dream 84 2000 8.3\n",
      "3 Idiots 85 2009 8.3\n",
      "Singin' in the Rain 86 1952 8.3\n",
      "Toy Story 3 87 2010 8.3\n",
      "High and Low 88 1963 8.3\n",
      "Star Wars: Episode VI - Return of the Jedi 89 1983 8.3\n",
      "Capernaum 90 2018 8.3\n",
      "2001: A Space Odyssey 91 1968 8.3\n",
      "Eternal Sunshine of the Spotless Mind 92 2004 8.3\n",
      "Reservoir Dogs 93 1992 8.3\n",
      "The Hunt 94 2012 8.3\n",
      "Come and See 95 1985 8.3\n",
      "Citizen Kane 96 1941 8.3\n",
      "M 97 1931 8.3\n",
      "Lawrence of Arabia 98 1962 8.3\n",
      "North by Northwest 99 1959 8.2\n",
      "Vertigo 100 1958 8.2\n",
      "Amélie 101 2001 8.2\n",
      "A Clockwork Orange 102 1971 8.2\n",
      "The Apartment 103 1960 8.2\n",
      "Ikiru 104 1952 8.2\n",
      "Double Indemnity 105 1944 8.2\n",
      "Full Metal Jacket 106 1987 8.2\n",
      "Hamilton 107 2020 8.2\n",
      "Scarface 108 1983 8.2\n",
      "To Kill a Mockingbird 109 1962 8.2\n",
      "The Sting 110 1973 8.2\n",
      "Incendies 111 2010 8.2\n",
      "Up 112 2009 8.2\n",
      "Heat 113 1995 8.2\n",
      "Taxi Driver 114 1976 8.2\n",
      "A Separation 115 2011 8.2\n",
      "Metropolis 116 1927 8.2\n",
      "L.A. Confidential 117 1997 8.2\n",
      "Snatch 118 2000 8.2\n",
      "Die Hard 119 1988 8.2\n",
      "Bicycle Thieves 120 1948 8.2\n",
      "Indiana Jones and the Last Crusade 121 1989 8.2\n",
      "Like Stars on Earth 122 2007 8.2\n",
      "1917 123 2019 8.2\n",
      "Downfall 124 2004 8.2\n",
      "For a Few Dollars More 125 1965 8.2\n",
      "Dangal 126 2016 8.2\n",
      "Batman Begins 127 2005 8.2\n",
      "The Kid 128 1921 8.2\n",
      "Some Like It Hot 129 1959 8.2\n",
      "The Father 130 2020 8.2\n",
      "All About Eve 131 1950 8.2\n",
      "Green Book 132 2018 8.2\n",
      "The Wolf of Wall Street 133 2013 8.2\n",
      "Judgment at Nuremberg 134 1961 8.2\n",
      "Ran 135 1985 8.2\n",
      "Casino 136 1995 8.2\n",
      "Pan's Labyrinth 137 2006 8.2\n",
      "Unforgiven 138 1992 8.2\n",
      "There Will Be Blood 139 2007 8.2\n",
      "The Truman Show 140 1998 8.2\n",
      "The Sixth Sense 141 1999 8.2\n",
      "A Beautiful Mind 142 2001 8.2\n",
      "Shutter Island 143 2010 8.1\n",
      "Yojimbo 144 1961 8.1\n",
      "Spider-Man: No Way Home 145 2021 8.1\n",
      "Monty Python and the Holy Grail 146 1975 8.1\n",
      "The Treasure of the Sierra Madre 147 1948 8.1\n",
      "Jurassic Park 148 1993 8.1\n",
      "The Great Escape 149 1963 8.1\n",
      "Rashomon 150 1950 8.1\n",
      "Kill Bill: Vol. 1 151 2003 8.1\n",
      "No Country for Old Men 152 2007 8.1\n",
      "Finding Nemo 153 2003 8.1\n",
      "The Thing 154 1982 8.1\n",
      "The Elephant Man 155 1980 8.1\n",
      "Chinatown 156 1974 8.1\n",
      "Raging Bull 157 1980 8.1\n",
      "Gone with the Wind 158 1939 8.1\n",
      "V for Vendetta 159 2005 8.1\n",
      "Inside Out 160 2015 8.1\n",
      "Lock, Stock and Two Smoking Barrels 161 1998 8.1\n",
      "Dial M for Murder 162 1954 8.1\n",
      "The Secret in Their Eyes 163 2009 8.1\n",
      "Howl's Moving Castle 164 2004 8.1\n",
      "The Bridge on the River Kwai 165 1957 8.1\n",
      "Three Billboards Outside Ebbing, Missouri 166 2017 8.1\n",
      "Trainspotting 167 1996 8.1\n",
      "Warrior 168 2011 8.1\n",
      "Fargo 169 1996 8.1\n",
      "Gran Torino 170 2008 8.1\n",
      "Prisoners 171 2013 8.1\n",
      "My Neighbor Totoro 172 1988 8.1\n",
      "Catch Me If You Can 173 2002 8.1\n",
      "Million Dollar Baby 174 2004 8.1\n",
      "Children of Heaven 175 1997 8.1\n",
      "Blade Runner 176 1982 8.1\n",
      "The Gold Rush 177 1925 8.1\n",
      "On the Waterfront 178 1954 8.1\n",
      "Before Sunrise 179 1995 8.1\n",
      "12 Years a Slave 180 2013 8.1\n",
      "Harry Potter and the Deathly Hallows: Part 2 181 2011 8.1\n",
      "Ben-Hur 182 1959 8.1\n",
      "Wild Strawberries 183 1957 8.1\n",
      "Gone Girl 184 2014 8.1\n",
      "The General 185 1926 8.1\n",
      "The Third Man 186 1949 8.1\n",
      "The Grand Budapest Hotel 187 2014 8.1\n",
      "The Deer Hunter 188 1978 8.1\n",
      "In the Name of the Father 189 1993 8.1\n",
      "Klaus 190 2019 8.1\n",
      "Barry Lyndon 191 1975 8.1\n",
      "The Wages of Fear 192 1953 8.1\n",
      "Hacksaw Ridge 193 2016 8.1\n",
      "Sherlock Jr. 194 1924 8.1\n",
      "Mr. Smith Goes to Washington 195 1939 8.1\n",
      "Memories of Murder 196 2003 8.1\n",
      "Wild Tales 197 2014 8.1\n",
      "The Seventh Seal 198 1957 8.1\n",
      "Mad Max: Fury Road 199 2015 8.1\n",
      "Room 200 2015 8.1\n",
      "Mary and Max 201 2009 8.1\n",
      "How to Train Your Dragon 202 2010 8.1\n",
      "The Big Lebowski 203 1998 8.1\n",
      "Monsters, Inc. 204 2001 8.1\n",
      "Jaws 205 1975 8.1\n",
      "Dead Poets Society 206 1989 8.1\n",
      "The Passion of Joan of Arc 207 1928 8.1\n",
      "Tokyo Story 208 1953 8.1\n",
      "Hotel Rwanda 209 2004 8.1\n",
      "Ford v Ferrari 210 2019 8.0\n",
      "Rocky 211 1976 8.0\n",
      "Platoon 212 1986 8.0\n",
      "Spotlight 213 2015 8.0\n",
      "Stand by Me 214 1986 8.0\n",
      "The Terminator 215 1984 8.0\n",
      "Logan 216 2017 8.0\n",
      "Ratatouille 217 2007 8.0\n",
      "Rush 218 2013 8.0\n",
      "Pather Panchali 219 1955 8.0\n",
      "Network 220 1976 8.0\n",
      "Into the Wild 221 2007 8.0\n",
      "The Wizard of Oz 222 1939 8.0\n",
      "Before Sunset 223 2004 8.0\n",
      "Groundhog Day 224 1993 8.0\n",
      "The Exorcist 225 1973 8.0\n",
      "The Best Years of Our Lives 226 1946 8.0\n",
      "The Incredibles 227 2004 8.0\n",
      "To Be or Not to Be 228 1942 8.0\n",
      "The Battle of Algiers 229 1966 8.0\n",
      "Hachi: A Dog's Tale 230 2009 8.0\n",
      "La haine 231 1995 8.0\n",
      "Pirates of the Caribbean: The Curse of the Black Pearl 232 2003 8.0\n",
      "Jai Bhim 233 2021 8.0\n",
      "The Grapes of Wrath 234 1940 8.0\n",
      "My Father and My Son 235 2005 8.0\n",
      "Amores Perros 236 2000 8.0\n",
      "Rebecca 237 1940 8.0\n",
      "Cool Hand Luke 238 1967 8.0\n",
      "The 400 Blows 239 1959 8.0\n",
      "The Handmaiden 240 2016 8.0\n",
      "Persona 241 1966 8.0\n",
      "It Happened One Night 242 1934 8.0\n",
      "The Sound of Music 243 1965 8.0\n",
      "Everything Everywhere All at Once 244 2022 8.0\n",
      "Life of Brian 245 1979 8.0\n",
      "Dersu Uzala 246 1975 8.0\n",
      "Aladdin 247 1992 8.0\n",
      "The Iron Giant 248 1999 8.0\n",
      "The Help 249 2011 8.0\n",
      "Gandhi 250 1982 8.0\n"
     ]
    }
   ],
   "source": [
    "\n",
    "try:\n",
    "  source = requests.get('https://www.imdb.com/chart/top/')\n",
    "  source.raise_for_status()\n",
    "\n",
    "  soup = BeautifulSoup(source.text, 'html.parser')\n",
    "  movies = soup.find('tbody',class_='lister-list').find_all('tr')\n",
    "  for movie in movies:\n",
    "    name = movie.find('td', class_='titleColumn').a.text\n",
    "    rank = movie.find('td', class_='titleColumn').get_text(strip=True).split('.')[0]\n",
    "    year = movie.find('td', class_='titleColumn').span.text.strip('()')\n",
    "    rating = movie.find('td', class_='ratingColumn imdbRating').strong.text\n",
    "    print(name,rank,year,rating)\n",
    "    sheet.append([rank,name,year,rating])\n",
    "  \n",
    "\n",
    "except Exception as e:\n",
    "  print(e)\n",
    "\n",
    "excel.save('IMDB Movie Ratings.xlsx')"
   ]
  },
  {
   "cell_type": "code",
   "execution_count": null,
   "metadata": {
    "id": "XfHNnJLCzF_y"
   },
   "outputs": [],
   "source": []
  },
  {
   "cell_type": "code",
   "execution_count": null,
   "metadata": {
    "id": "n2vixNZCzGT0"
   },
   "outputs": [],
   "source": []
  }
 ],
 "metadata": {
  "colab": {
   "provenance": []
  },
  "kernelspec": {
   "display_name": "Python 3",
   "language": "python",
   "name": "python3"
  },
  "language_info": {
   "codemirror_mode": {
    "name": "ipython",
    "version": 3
   },
   "file_extension": ".py",
   "mimetype": "text/x-python",
   "name": "python",
   "nbconvert_exporter": "python",
   "pygments_lexer": "ipython3",
   "version": "3.6.9"
  }
 },
 "nbformat": 4,
 "nbformat_minor": 1
}
